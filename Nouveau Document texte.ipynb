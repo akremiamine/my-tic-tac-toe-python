{
 "cells": [
  {
   "cell_type": "code",
   "execution_count": 1,
   "metadata": {},
   "outputs": [],
   "source": [
    "import numpy as np\n",
    "matriceV0 = []\n",
    "\n",
    "\n",
    "# iAxisOfMatrix = 3\n",
    "# jAxisOfMatrix = 3\n",
    "\n",
    "def createMatrix(iAxisOfMatrix,jAxisOfMatrix):\n",
    "    for i in range(iAxisOfMatrix):\n",
    "        matriceV0.append([]) \n",
    "        for j in range(jAxisOfMatrix):\n",
    "            matriceV0[i].append(0)\n",
    "            \n",
    "\n",
    "\n",
    "# createMatrix (iAxisOfMatrix,jAxisOfMatrix)\n",
    "\n",
    "#matrice = np.array(matriceV0)\n",
    "\n",
    "\n"
   ]
  },
  {
   "cell_type": "code",
   "execution_count": 2,
   "metadata": {},
   "outputs": [],
   "source": [
    "def printmatrix(matrice):\n",
    "    print(matrice)\n",
    "\n",
    "#printmatrix()"
   ]
  },
  {
   "cell_type": "code",
   "execution_count": 3,
   "metadata": {},
   "outputs": [],
   "source": [
    "def switchPlayersTurn(player):\n",
    "    if player == 'player1' :\n",
    "        return 'player2'\n",
    "    else:\n",
    "        return 'player1'\n",
    "\n",
    "#playersTurn = switchPlayersTurn('player2')"
   ]
  },
  {
   "cell_type": "code",
   "execution_count": 4,
   "metadata": {},
   "outputs": [],
   "source": [
    "def modifyMatrix(ax_I,ax_J , playersTurn,matrice) :\n",
    "    if playersTurn == 'player1' :\n",
    "        matrice[ax_I][ax_J] = 1\n",
    "    else:\n",
    "        matrice[ax_I][ax_J] = 2\n",
    "#modifyMatrix(0,2,playersTurn)\n",
    "#matrice"
   ]
  },
  {
   "cell_type": "code",
   "execution_count": 5,
   "metadata": {},
   "outputs": [],
   "source": [
    "# playersTurn = switchPlayersTurn('player1')\n",
    "# modifyMatrix(1,1,playersTurn)\n",
    "# printmatrix()\n",
    "# print('****')\n",
    "# modifyMatrix(1,2,playersTurn)\n",
    "# printmatrix()\n",
    "# print('****')\n",
    "# modifyMatrix(2,2,playersTurn)\n",
    "# printmatrix()\n"
   ]
  },
  {
   "cell_type": "code",
   "execution_count": 6,
   "metadata": {},
   "outputs": [],
   "source": [
    "# def testInvalidPositionInMatrix(ax_I,ax_J,iAxisOfMatrix,jAxisOfMatrix,matrice):\n",
    "#     if ( ax_I > iAxisOfMatrix  or  ax_J > jAxisOfMatrix or ax_I < 0 or ax_J < 0 ) :\n",
    "#         print('this Position is out of bounds ')\n",
    "#     elif matrice[ax_I][ax_J] !=0 :\n",
    "#         print('this Position is take it by the other player ')\n",
    "\n",
    "\n",
    "        \n"
   ]
  },
  {
   "cell_type": "code",
   "execution_count": 7,
   "metadata": {},
   "outputs": [],
   "source": [
    "\n",
    "\n",
    "# Updated function that returns True or False\n",
    "def testInvalidPositionInMatrix(ax_I, ax_J, iAxisOfMatrix, jAxisOfMatrix, matrice):\n",
    "    if ax_I > iAxisOfMatrix or ax_J > jAxisOfMatrix or ax_I < 0 or ax_J < 0:\n",
    "        return True  # Invalid position (out of bounds)\n",
    "    elif matrice[ax_I][ax_J] != 0:\n",
    "        return True  # Invalid position (already taken)\n",
    "    else:\n",
    "        return False  # Valid position\n"
   ]
  },
  {
   "cell_type": "code",
   "execution_count": 8,
   "metadata": {},
   "outputs": [],
   "source": [
    "# def testIfIndex(matrice, ax_I , ax_J):\n",
    "#     # pour( ax_I = 0 , ax_J = 0)\n",
    "\n",
    "#      return (matrice[ax_I][ax_J] == matrice[ax_I][ax_J+1]  == matrice[ax_I][ax_J+2]  !=0  or  matrice[ax_I][ax_J] == matrice[ax_I+1][ax_J] == matrice[ax_I+1][ax_J]  !=0  or  matrice[ax_I][ax_J] == matrice[ax_I+1][ax_J+1] == matrice[ax_I+2][ax_J+2]  )\n",
    "# # testIfIndex(matrice, 0 , 0)"
   ]
  },
  {
   "cell_type": "code",
   "execution_count": 9,
   "metadata": {},
   "outputs": [],
   "source": [
    "#testInvalidPositionInMatrix(-5,5)"
   ]
  },
  {
   "cell_type": "code",
   "execution_count": 10,
   "metadata": {},
   "outputs": [],
   "source": [
    "\n",
    "\n",
    "def checkTopLeftCorner(matrice, ax_I , ax_J):\n",
    "    # pour( ax_I = 0 , ax_J = 0)\n",
    "     return (matrice[ax_I][ax_J] == matrice[ax_I][ax_J+1]  == matrice[ax_I][ax_J+2]  !=0  or  matrice[ax_I][ax_J] == matrice[ax_I+1][ax_J] == matrice[ax_I+1][ax_J]  !=0  or  matrice[ax_I][ax_J] == matrice[ax_I+1][ax_J+1] == matrice[ax_I+2][ax_J+2]  !=0)\n",
    "        \n",
    "def checkBottomRightCorner(matrice, ax_I , ax_J):\n",
    "   #pour(-1,-1)\n",
    "    return (matrice[ax_I][ax_J] == matrice[ax_I][ax_J-1] == matrice[ax_I][ax_J-2]  !=0  or matrice[ax_I][ax_J] == matrice[ax_I-1][ax_J] == matrice[ax_I-1][ax_J]  !=0  or matrice[ax_I][ax_J] == matrice[ax_I-1][ax_J-1] == matrice[ax_I-2][ax_J-2]  !=0)  \n",
    "    \n",
    "def checkTopRightCorner(matrice, ax_I , ax_J):\n",
    "    #pour(0,-1)\n",
    "    return (matrice[ax_I][ax_J] == matrice[ax_I-1][ax_J] == matrice[ax_I-2][ax_J]  !=0  or matrice[ax_I][ax_J] == matrice[ax_I][ax_J+1] == matrice[ax_I][ax_J+2]  !=0  or matrice[ax_I][ax_J] == matrice[ax_I-1][ax_J-1] == matrice[ax_I-2][ax_J-2]  !=0  ) \n",
    "def checkBottomLeftCorner(matrice, ax_I , ax_J):\n",
    "    #pour(-1,0)\n",
    "    return (matrice[ax_I][ax_J] == matrice[ax_I+1][ax_J] == matrice[ax_I+2][ax_J]  !=0  or matrice[ax_I][ax_J] == matrice[ax_I][ax_J-1] == matrice[ax_I][ax_J-2]  !=0  or matrice[ax_I][ax_J] == matrice[ax_I-1][ax_J-1] == matrice[ax_I-2][ax_J-2]  !=0 ) \n",
    "\n",
    "    \n",
    "def checkCenter(matrice, ax_I , ax_J):\n",
    "    #pour centre\n",
    "    return (matrice[ax_I][ax_J] == matrice[ax_I-1][ax_J] == matrice[ax_I+1][ax_J]  !=0  or matrice[ax_I][ax_J] == matrice[ax_I][ax_J-1] == matrice[ax_I][ax_J-1]  !=0  or matrice[ax_I][ax_J] == matrice[ax_I-1][ax_J-1] == matrice[ax_I-2][ax_J-2]  !=0    \n",
    "            or matrice[ax_I][ax_J] == matrice[ax_I+1][ax_J+1] == matrice[ax_I-1][ax_J-1]  !=0  or matrice[ax_I][ax_J] == matrice[ax_I-1][ax_J-1] == matrice[ax_I+1][ax_J+1]  !=0  )\n",
    "\n",
    "\n",
    "def checkTopLine(matrice, ax_I , ax_J):\n",
    "    #i >0 and i< -1 and j =0\n",
    "    return (matrice[ax_I][ax_J] == matrice[ax_I][ax_J+1] == matrice[ax_I][ax_J+2]  !=0  or matrice[ax_I][ax_J] == matrice[ax_I-1][ax_J] == matrice[ax_I+1][ax_J]  !=0 ) \n",
    "def checkBottomLine(matrice, ax_I , ax_J):\n",
    "    #i >0 and i< -1 and j = -1\n",
    "    return (matrice[ax_I][ax_J] == matrice[ax_I][ax_J-1] == matrice[ax_I][ax_J-2]  !=0  or matrice[ax_I][ax_J] == matrice[ax_I-1][ax_J] == matrice[ax_I+1][ax_J]  !=0 ) \n",
    "def checkRighLine(matrice, ax_I , ax_J):\n",
    "    # j>0 and j< -1 and i = 0\n",
    "    return (matrice[ax_I][ax_J] == matrice[ax_I+1][ax_J] == matrice[ax_I+2][ax_J]  !=0  or matrice[ax_I][ax_J] == matrice[ax_I][ax_J-1] == matrice[ax_I][ax_J+1]  !=0 ) \n",
    "def checkLeftLine(matrice, ax_I , ax_J):\n",
    "    # j>0 and j< -1 and i = -1\n",
    "    return (matrice[ax_I][ax_J] == matrice[ax_I-1][ax_J] == matrice[ax_I-2][ax_J]  !=0  or matrice[ax_I][ax_J] == matrice[ax_I][ax_J-1] == matrice[ax_I][ax_J+1]  !=0 ) \n",
    "\n",
    "def checkFordraw(matrice):\n",
    "    if 0 not in matrice:\n",
    "        return False  # Stop \n",
    "    return True  # Continue \n"
   ]
  },
  {
   "cell_type": "code",
   "execution_count": 11,
   "metadata": {},
   "outputs": [],
   "source": [
    "def checkWinPlayer(matrice, ax_I, ax_J):\n",
    "    if ax_I == 0 and ax_J == 0 and checkTopRightCorner(matrice, ax_I, ax_J):\n",
    "        print('player win')\n",
    "    elif ax_I == -1 and ax_J == -1 and checkBottomRightCorner(matrice, ax_I, ax_J):\n",
    "        print('player win')\n",
    "    elif ax_I == 0 and ax_J == -1 and checkTopRightCorner(matrice, ax_I, ax_J):\n",
    "        print('player win')\n",
    "    elif ax_I == -1 and ax_J == 0 and checkBottomRightCorner(matrice, ax_I, ax_J):\n",
    "        print('player win')\n",
    "    elif ax_I > 0 and ax_J > 0 and checkBottomLeftCorner(matrice, ax_I, ax_J):\n",
    "        print('player win')\n",
    "    elif ax_I > 0 and ax_I < -1 and ax_J == 0 and checkTopLine(matrice, ax_I, ax_J):\n",
    "        print('player win')\n",
    "    elif ax_I > 0 and ax_I < -1 and ax_J == -1 and checkBottomLine(matrice, ax_I, ax_J):\n",
    "        print('player win')\n",
    "    elif ax_J > 0 and ax_J < -1 and ax_I == 0 and checkLeftLine(matrice, ax_I, ax_J):\n",
    "        print('player win')\n",
    "    elif ax_J > 0 and ax_J < -1 and ax_I == -1 and checkLeftLine(matrice, ax_I, ax_J):\n",
    "        print('player win')\n",
    "\n"
   ]
  },
  {
   "cell_type": "code",
   "execution_count": 12,
   "metadata": {},
   "outputs": [],
   "source": [
    "\n",
    "# iAxisOfMatrix = 3\n",
    "# jAxisOfMatrix = 3\n",
    "# createMatrix (iAxisOfMatrix,jAxisOfMatrix)\n",
    "# matrice = np.array(matriceV0)\n",
    "# printmatrix()\n",
    "# print('*' * 50)\n",
    "# ax_I=0\n",
    "# ax_J=2\n",
    "# playersTurn = 'player1'\n",
    "# print(playersTurn)\n",
    "# testInvalidPositionInMatrix(ax_I,ax_J)\n",
    "# modifyMatrix(ax_I,ax_J,playersTurn)\n",
    "# checkWinPlayer(matrice,ax_I,ax_J)\n",
    "# printmatrix()\n",
    "# print('*' * 50)\n",
    "# playersTurn = switchPlayersTurn(playersTurn)\n",
    "# print(playersTurn)\n",
    "# ax_I=1\n",
    "# ax_J=1\n",
    "# testInvalidPositionInMatrix(ax_I,ax_J)\n",
    "# modifyMatrix(ax_I,ax_J,playersTurn)\n",
    "# checkWinPlayer(matrice,ax_I,ax_J)\n",
    "# printmatrix()\n",
    "# print('*' * 50)\n",
    "# playersTurn = switchPlayersTurn(playersTurn)\n",
    "# print(playersTurn)\n",
    "# ax_I=0\n",
    "# ax_J=1\n",
    "# testInvalidPositionInMatrix(ax_I,ax_J)\n",
    "# modifyMatrix(ax_I,ax_J,playersTurn)\n",
    "# checkWinPlayer(matrice,ax_I,ax_J)\n",
    "# printmatrix()\n",
    "# print('*' * 50)\n",
    "# playersTurn = switchPlayersTurn(playersTurn)\n",
    "# print(playersTurn)\n",
    "# ax_I=1\n",
    "# ax_J=2\n",
    "# testInvalidPositionInMatrix(ax_I,ax_J)\n",
    "# modifyMatrix(ax_I,ax_J,playersTurn)\n",
    "# checkWinPlayer(matrice,ax_I,ax_J)\n",
    "# printmatrix()\n",
    "# print('*' * 50)\n",
    "# playersTurn = switchPlayersTurn(playersTurn)\n",
    "# print(playersTurn)\n",
    "# ax_I=0\n",
    "# ax_J=0\n",
    "# testInvalidPositionInMatrix(ax_I,ax_J)\n",
    "# modifyMatrix(ax_I,ax_J,playersTurn)\n",
    "# checkWinPlayer(matrice,ax_I,ax_J)\n",
    "# printmatrix()\n"
   ]
  },
  {
   "cell_type": "code",
   "execution_count": 13,
   "metadata": {},
   "outputs": [
    {
     "name": "stdout",
     "output_type": "stream",
     "text": [
      "[[0 0 0]\n",
      " [0 0 0]\n",
      " [0 0 0]]\n",
      "**************************************************\n",
      "player1 is your  turn\n",
      "[[0 0 0]\n",
      " [0 0 1]\n",
      " [0 0 0]]\n",
      "**************************************************\n",
      "player2 is your  turn\n"
     ]
    },
    {
     "ename": "IndexError",
     "evalue": "index 3 is out of bounds for axis 0 with size 3",
     "output_type": "error",
     "traceback": [
      "\u001b[1;31m---------------------------------------------------------------------------\u001b[0m",
      "\u001b[1;31mIndexError\u001b[0m                                Traceback (most recent call last)",
      "\u001b[1;32mc:\\Users\\akrem\\OneDrive\\Desktop\\tictactoe\\Nouveau Document texte.ipynb Cell 13\u001b[0m line \u001b[0;36m1\n\u001b[0;32m     <a href='vscode-notebook-cell:/c%3A/Users/akrem/OneDrive/Desktop/tictactoe/Nouveau%20Document%20texte.ipynb#X14sZmlsZQ%3D%3D?line=15'>16</a>\u001b[0m testInvalidPositionInMatrix(ax_I, ax_J, iAxisOfMatrix, jAxisOfMatrix, matrice)\n\u001b[0;32m     <a href='vscode-notebook-cell:/c%3A/Users/akrem/OneDrive/Desktop/tictactoe/Nouveau%20Document%20texte.ipynb#X14sZmlsZQ%3D%3D?line=16'>17</a>\u001b[0m modifyMatrix(ax_I, ax_J, playersTurn, matrice)\n\u001b[1;32m---> <a href='vscode-notebook-cell:/c%3A/Users/akrem/OneDrive/Desktop/tictactoe/Nouveau%20Document%20texte.ipynb#X14sZmlsZQ%3D%3D?line=18'>19</a>\u001b[0m \u001b[39mif\u001b[39;00m checkWinPlayer(matrice, ax_I, ax_J):\n\u001b[0;32m     <a href='vscode-notebook-cell:/c%3A/Users/akrem/OneDrive/Desktop/tictactoe/Nouveau%20Document%20texte.ipynb#X14sZmlsZQ%3D%3D?line=19'>20</a>\u001b[0m     \u001b[39mbreak\u001b[39;00m\n\u001b[0;32m     <a href='vscode-notebook-cell:/c%3A/Users/akrem/OneDrive/Desktop/tictactoe/Nouveau%20Document%20texte.ipynb#X14sZmlsZQ%3D%3D?line=21'>22</a>\u001b[0m printmatrix(matrice)\n",
      "\u001b[1;32mc:\\Users\\akrem\\OneDrive\\Desktop\\tictactoe\\Nouveau Document texte.ipynb Cell 13\u001b[0m line \u001b[0;36m1\n\u001b[0;32m      <a href='vscode-notebook-cell:/c%3A/Users/akrem/OneDrive/Desktop/tictactoe/Nouveau%20Document%20texte.ipynb#X14sZmlsZQ%3D%3D?line=7'>8</a>\u001b[0m \u001b[39melif\u001b[39;00m ax_I \u001b[39m==\u001b[39m \u001b[39m-\u001b[39m\u001b[39m1\u001b[39m \u001b[39mand\u001b[39;00m ax_J \u001b[39m==\u001b[39m \u001b[39m0\u001b[39m \u001b[39mand\u001b[39;00m checkBottomRightCorner(matrice, ax_I, ax_J):\n\u001b[0;32m      <a href='vscode-notebook-cell:/c%3A/Users/akrem/OneDrive/Desktop/tictactoe/Nouveau%20Document%20texte.ipynb#X14sZmlsZQ%3D%3D?line=8'>9</a>\u001b[0m     \u001b[39mprint\u001b[39m(\u001b[39m'\u001b[39m\u001b[39mplayer win\u001b[39m\u001b[39m'\u001b[39m)\n\u001b[1;32m---> <a href='vscode-notebook-cell:/c%3A/Users/akrem/OneDrive/Desktop/tictactoe/Nouveau%20Document%20texte.ipynb#X14sZmlsZQ%3D%3D?line=9'>10</a>\u001b[0m \u001b[39melif\u001b[39;00m ax_I \u001b[39m>\u001b[39m \u001b[39m0\u001b[39m \u001b[39mand\u001b[39;00m ax_J \u001b[39m>\u001b[39m \u001b[39m0\u001b[39m \u001b[39mand\u001b[39;00m checkBottomLeftCorner(matrice, ax_I, ax_J):\n\u001b[0;32m     <a href='vscode-notebook-cell:/c%3A/Users/akrem/OneDrive/Desktop/tictactoe/Nouveau%20Document%20texte.ipynb#X14sZmlsZQ%3D%3D?line=10'>11</a>\u001b[0m     \u001b[39mprint\u001b[39m(\u001b[39m'\u001b[39m\u001b[39mplayer win\u001b[39m\u001b[39m'\u001b[39m)\n\u001b[0;32m     <a href='vscode-notebook-cell:/c%3A/Users/akrem/OneDrive/Desktop/tictactoe/Nouveau%20Document%20texte.ipynb#X14sZmlsZQ%3D%3D?line=11'>12</a>\u001b[0m \u001b[39melif\u001b[39;00m ax_I \u001b[39m>\u001b[39m \u001b[39m0\u001b[39m \u001b[39mand\u001b[39;00m ax_I \u001b[39m<\u001b[39m \u001b[39m-\u001b[39m\u001b[39m1\u001b[39m \u001b[39mand\u001b[39;00m ax_J \u001b[39m==\u001b[39m \u001b[39m0\u001b[39m \u001b[39mand\u001b[39;00m checkTopLine(matrice, ax_I, ax_J):\n",
      "\u001b[1;32mc:\\Users\\akrem\\OneDrive\\Desktop\\tictactoe\\Nouveau Document texte.ipynb Cell 13\u001b[0m line \u001b[0;36m1\n\u001b[0;32m     <a href='vscode-notebook-cell:/c%3A/Users/akrem/OneDrive/Desktop/tictactoe/Nouveau%20Document%20texte.ipynb#X14sZmlsZQ%3D%3D?line=11'>12</a>\u001b[0m \u001b[39mdef\u001b[39;00m \u001b[39mcheckBottomLeftCorner\u001b[39m(matrice, ax_I , ax_J):\n\u001b[0;32m     <a href='vscode-notebook-cell:/c%3A/Users/akrem/OneDrive/Desktop/tictactoe/Nouveau%20Document%20texte.ipynb#X14sZmlsZQ%3D%3D?line=12'>13</a>\u001b[0m     \u001b[39m#pour(-1,0)\u001b[39;00m\n\u001b[1;32m---> <a href='vscode-notebook-cell:/c%3A/Users/akrem/OneDrive/Desktop/tictactoe/Nouveau%20Document%20texte.ipynb#X14sZmlsZQ%3D%3D?line=13'>14</a>\u001b[0m     \u001b[39mreturn\u001b[39;00m (matrice[ax_I][ax_J] \u001b[39m==\u001b[39m matrice[ax_I\u001b[39m+\u001b[39;49m\u001b[39m1\u001b[39;49m][ax_J] \u001b[39m==\u001b[39m matrice[ax_I\u001b[39m+\u001b[39m\u001b[39m2\u001b[39m][ax_J]  \u001b[39m!=\u001b[39m\u001b[39m0\u001b[39m  \u001b[39mor\u001b[39;00m matrice[ax_I][ax_J] \u001b[39m==\u001b[39m matrice[ax_I][ax_J\u001b[39m-\u001b[39m\u001b[39m1\u001b[39m] \u001b[39m==\u001b[39m matrice[ax_I][ax_J\u001b[39m-\u001b[39m\u001b[39m2\u001b[39m]  \u001b[39m!=\u001b[39m\u001b[39m0\u001b[39m  \u001b[39mor\u001b[39;00m matrice[ax_I][ax_J] \u001b[39m==\u001b[39m matrice[ax_I\u001b[39m-\u001b[39m\u001b[39m1\u001b[39m][ax_J\u001b[39m-\u001b[39m\u001b[39m1\u001b[39m] \u001b[39m==\u001b[39m matrice[ax_I\u001b[39m-\u001b[39m\u001b[39m2\u001b[39m][ax_J\u001b[39m-\u001b[39m\u001b[39m2\u001b[39m]  \u001b[39m!=\u001b[39m\u001b[39m0\u001b[39m )\n",
      "\u001b[1;31mIndexError\u001b[0m: index 3 is out of bounds for axis 0 with size 3"
     ]
    }
   ],
   "source": [
    "\n",
    "iAxisOfMatrix = int(input('iAxisOfMatrix'))\n",
    "jAxisOfMatrix = int(input('jAxisOfMatrix'))\n",
    "matrice = np.array(matriceV0)\n",
    "createMatrix (iAxisOfMatrix,jAxisOfMatrix)\n",
    "matrice = np.array(matriceV0)\n",
    "printmatrix(matrice)\n",
    "print('*' * 50)\n",
    "playersTurn = 'player'+input('1 or 2')\n",
    "playersTurn\n",
    "\n",
    "while True:\n",
    "    print(playersTurn, 'is your  turn')\n",
    "    ax_I = int(input('Enter the row '))\n",
    "    ax_J = int(input('Enter the column' ))\n",
    "\n",
    "    testInvalidPositionInMatrix(ax_I, ax_J, iAxisOfMatrix, jAxisOfMatrix, matrice)\n",
    "    modifyMatrix(ax_I, ax_J, playersTurn, matrice)\n",
    "    \n",
    "    if checkWinPlayer(matrice, ax_I, ax_J):\n",
    "        break\n",
    "    \n",
    "    printmatrix(matrice)\n",
    "    print('*' * 50)\n",
    "    playersTurn = switchPlayersTurn(playersTurn)\n",
    "    \n",
    "    if not checkFordraw(matrice):\n",
    "        break\n"
   ]
  }
 ],
 "metadata": {
  "kernelspec": {
   "display_name": "Python 3",
   "language": "python",
   "name": "python3"
  },
  "language_info": {
   "codemirror_mode": {
    "name": "ipython",
    "version": 3
   },
   "file_extension": ".py",
   "mimetype": "text/x-python",
   "name": "python",
   "nbconvert_exporter": "python",
   "pygments_lexer": "ipython3",
   "version": "3.11.3"
  },
  "orig_nbformat": 4
 },
 "nbformat": 4,
 "nbformat_minor": 2
}
